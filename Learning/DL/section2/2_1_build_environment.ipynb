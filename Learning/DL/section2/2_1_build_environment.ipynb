{
 "cells": [
  {
   "cell_type": "markdown",
   "metadata": {},
   "source": [
    "## jupyter\n",
    "\n",
    "jupyter 适合于数据分析师，Jupyter这个名字是它要服务的三种语言的缩写：Julia，PYThon和R，这个名字与“木星（jupiter）”谐音。\n",
    "\n",
    "使用方法，我们可以直接通过增加`.ipynb`文件来实现，记忆方法：爱(i)python(py)notebook(nb)。\n",
    "\n",
    "conda 上查看特定安装包或者安装包版本的方法如下：\n",
    "\n",
    "```bash\n",
    "pip list | grep torch\n",
    "conda list | grep torch\n",
    "\n",
    "# the same as looking for a process and kill it\n",
    "ps -ef | grep python\n",
    "kill -9 [PID]   # PID = process id; PPID = parent's PID\n",
    "```\n",
    "\n",
    "\n"
   ]
  }
 ],
 "metadata": {
  "kernelspec": {
   "display_name": "Python 3.9.13 ('env_cp39_PA')",
   "language": "python",
   "name": "python3"
  },
  "language_info": {
   "name": "python",
   "version": "3.9.13"
  },
  "orig_nbformat": 4,
  "vscode": {
   "interpreter": {
    "hash": "70eebdb8be5a84a025b99a5c636f96b3fa97906107ce3738272310b52f34377e"
   }
  }
 },
 "nbformat": 4,
 "nbformat_minor": 2
}
