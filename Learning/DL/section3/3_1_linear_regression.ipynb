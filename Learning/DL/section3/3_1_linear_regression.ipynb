{
 "cells": [
  {
   "cell_type": "code",
   "execution_count": null,
   "metadata": {},
   "outputs": [],
   "source": [
    "# 线性回归"
   ]
  },
  {
   "cell_type": "markdown",
   "metadata": {},
   "source": [
    "## 什么是NumPy\n",
    "\n",
    "**NumPy用来存储和处理大量矩阵。**\n",
    "\n",
    "NumPy是Python的一个用于科学计算的基础包。它提供了多维数组对象，多种衍生的对象（例如隐藏数组和矩阵）和一个用于数组快速运算的混合的程序，包括数学，逻辑，排序，选择，I/O，离散傅立叶变换，基础线性代数，基础统计操作，随机模拟等等。\n",
    "\n",
    "NumPy包的核心是ndarray对象。它封装了n维同类数组。\n",
    "\n",
    "## 什么是Pandas\n",
    "\n",
    "**数据分析环境，起初作为金融数据分析工具。**\n",
    "\n",
    "Pandas一般解决表格型的数据、二维的。\n",
    "\n",
    "Pandas是专门为处理表格和混杂数据设计的，而Numpy更适合处理统一数值数据。\n",
    "\n",
    "Pandas主要数据结构：Series 和 DataFrame\n",
    "\n",
    "## 什么是Matplotlib\n",
    "\n",
    "**2D绘图库，用于模型可视化。**\n",
    "\n",
    "数据可视化工具，可以成熟的对Numpy和Pandas进行兼容，使用起来方便而快捷。Matplotlib有两种会图方式，一种是函数式绘图方式（类似MATLAB）；另一种是面向对象的绘图方式。\n",
    "\n",
    "## 什么是SciPy\n",
    "\n",
    "**科学和工程领域软件包。**\n",
    "\n",
    "包括统计，线性代数，傅里叶变换，常微分方差求解等。\n",
    "\n",
    "## 什么是Scikit-Learn\n",
    "\n",
    "**简单高效的机器学习工具。**\n",
    "\n",
    "## 什么是PyTorch\n",
    "\n",
    "**深度学习框架。**"
   ]
  }
 ],
 "metadata": {
  "kernelspec": {
   "display_name": "Python 3.9.13 ('env_cp39_PA')",
   "language": "python",
   "name": "python3"
  },
  "language_info": {
   "name": "python",
   "version": "3.9.13"
  },
  "orig_nbformat": 4,
  "vscode": {
   "interpreter": {
    "hash": "70eebdb8be5a84a025b99a5c636f96b3fa97906107ce3738272310b52f34377e"
   }
  }
 },
 "nbformat": 4,
 "nbformat_minor": 2
}
